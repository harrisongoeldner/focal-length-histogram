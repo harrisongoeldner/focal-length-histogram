{
 "cells": [
  {
   "cell_type": "markdown",
   "metadata": {},
   "source": [
    "# Focal Length Project\n",
    "\n",
    "The ability to determine which focal length a photographer uses the most is helpful in determining which prime lenses they might purchase. The data taken in this study is from 2018."
   ]
  },
  {
   "cell_type": "code",
   "execution_count": null,
   "metadata": {},
   "outputs": [],
   "source": [
    "# Import Modules\n",
    "import sys, os\n",
    "import tkinter as tk\n",
    "from tkinter.filedialog import Directory, askdirectory"
   ]
  },
  {
   "cell_type": "code",
   "execution_count": null,
   "metadata": {},
   "outputs": [],
   "source": [
    "# Import Pillow\n",
    "from PIL import Image\n",
    "from PIL.ExifTags import TAGS"
   ]
  },
  {
   "cell_type": "code",
   "execution_count": null,
   "metadata": {},
   "outputs": [],
   "source": [
    "# Get File List Function\n",
    "def getfiles():\n",
    "    tk.Tk().withdraw()\n",
    "    directory = askdirectory()\n",
    "    filelist=[]\n",
    "    for root, dirs, files in os.walk(directory):\n",
    "        for file in files:\n",
    "            if(file.lower().endswith(\".jpg\")):\n",
    "            #if fnmatch(file,\"*.jpg\")\n",
    "                filelist.append(os.path.join(root,file))\n",
    "    for name in filelist:\n",
    "        print(name) \n",
    "    return(filelist)\n",
    "\n",
    "# Get Image Data Function\n",
    "def exif(imagepath):\n",
    "    exifdata=[]\n",
    "    lens=''\n",
    "    focal_length=''\n",
    "    for (k,v) in Image.open(imagepath)._getexif().items():\n",
    "            #print('%s = %s' % (TAGS.get(k), v))\n",
    "            exifdata.append([TAGS.get(k),v])\n",
    "            #print(dataset)\n",
    "    for t in exifdata:\n",
    "        if t[0] == \"LensModel\":\n",
    "            lens = t[1]\n",
    "        if t[0] == \"FocalLength\":\n",
    "            focal_length = t[1]\n",
    "    return lens, focal_length"
   ]
  },
  {
   "cell_type": "code",
   "execution_count": null,
   "metadata": {},
   "outputs": [],
   "source": [
    "# Main program\n",
    "def main():\n",
    "    # Setup EXIF database\n",
    "    exif_database = []\n",
    "    for image in getfiles():\n",
    "        func_data = exif(image)\n",
    "        exif_database.append([func_data[0],func_data[1],image])\n",
    "    # print(exif_database)\n",
    "    global focal\n",
    "    focal=[]\n",
    "    for d in range(len(exif_database)):\n",
    "        focal.append(exif_database[d][1])\n",
    "    print(focal)\n",
    "    \n",
    "            \n",
    "# Run main()\n",
    "if __name__ == \"__main__\":\n",
    "    main()"
   ]
  },
  {
   "cell_type": "code",
   "execution_count": null,
   "metadata": {},
   "outputs": [],
   "source": [
    "# Import Histogram module\n",
    "from sage.plot.histogram import Histogram"
   ]
  },
  {
   "cell_type": "code",
   "execution_count": null,
   "metadata": {},
   "outputs": [],
   "source": [
    "# Graph histogram\n",
    "histogram(focal, bins=8)"
   ]
  }
 ],
 "metadata": {
  "kernelspec": {
   "display_name": "Python 3",
   "language": "python",
   "name": "python3"
  },
  "language_info": {
   "codemirror_mode": {
    "name": "ipython",
    "version": 3
   },
   "file_extension": ".py",
   "mimetype": "text/x-python",
   "name": "python",
   "nbconvert_exporter": "python",
   "pygments_lexer": "ipython3",
   "version": "3.8.8"
  }
 },
 "nbformat": 4,
 "nbformat_minor": 4
}
